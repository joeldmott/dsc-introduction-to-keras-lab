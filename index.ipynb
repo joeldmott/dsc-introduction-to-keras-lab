{
  "cells": [
    {
      "cell_type": "markdown",
      "metadata": {
        "id": "0NBcxFXJ28Cr"
      },
      "source": [
        "# Keras - Lab\n",
        "\n",
        "## Introduction\n",
        "\n",
        "In this lab you'll once again build a neural network, but this time you will be using Keras to do a lot of the heavy lifting.\n",
        "\n",
        "\n",
        "## Objectives\n",
        "\n",
        "You will be able to:\n",
        "\n",
        "- Build a neural network using Keras\n",
        "- Evaluate performance of a neural network using Keras"
      ]
    },
    {
      "cell_type": "markdown",
      "metadata": {
        "id": "YrXmrwO028Ct"
      },
      "source": [
        "## Required Packages\n",
        "\n",
        "We'll start by importing all of the required packages and classes."
      ]
    },
    {
      "cell_type": "code",
      "execution_count": null,
      "metadata": {
        "id": "Bp8IWs2T28Ct"
      },
      "outputs": [],
      "source": [
        "import matplotlib.pyplot as plt\n",
        "import pandas as pd\n",
        "import numpy as np\n",
        "import random\n",
        "from sklearn.model_selection import train_test_split\n",
        "from keras.utils.np_utils import to_categorical\n",
        "from sklearn import preprocessing\n",
        "from keras.preprocessing.text import Tokenizer\n",
        "from keras import models\n",
        "from keras import layers\n",
        "from keras import optimizers"
      ]
    },
    {
      "cell_type": "markdown",
      "metadata": {
        "id": "CUO48KZn28Cu"
      },
      "source": [
        "## Load the data\n",
        "\n",
        "In this lab you will be classifying bank complaints available in the `'Bank_complaints.csv'` file."
      ]
    },
    {
      "cell_type": "code",
      "execution_count": null,
      "metadata": {
        "id": "snpMPhyT28Cv"
      },
      "outputs": [],
      "source": [
        "# Import data\n",
        "df = None\n",
        "\n",
        "# Inspect data\n",
        "print(df.info())\n",
        "df.head()"
      ]
    },
    {
      "cell_type": "markdown",
      "metadata": {
        "id": "fsfLniVe28Cv"
      },
      "source": [
        "As mentioned earlier, your task is to categorize banking complaints into various predefined categories. Preview what these categories are and what percent of the complaints each accounts for."
      ]
    },
    {
      "cell_type": "code",
      "execution_count": null,
      "metadata": {
        "id": "PIOYaG-K28Cv"
      },
      "outputs": [],
      "source": [
        "# Your code here"
      ]
    },
    {
      "cell_type": "markdown",
      "metadata": {
        "id": "z8d459hw28Cv"
      },
      "source": [
        "## Preprocessing\n",
        "\n",
        "Before we build our neural network, we need to do several preprocessing steps. First, we will create word vector counts (a bag of words type representation) of our complaints text. Next, we will change the category labels to integers. Finally, we will perform our usual train-test split before building and training our neural network using Keras. With that, let's start munging our data!\n",
        "\n",
        "## One-hot encoding of the complaints\n",
        "\n",
        "Our first step again is to transform our textual data into a numerical representation. As we saw in some of our previous lessons on NLP, there are many ways to do this. Here, we'll use the `Tokenizer()` class from the `preprocessing.text` sub-module of the Keras package.   \n",
        "\n",
        "As with our previous work using NLTK, this will transform our text complaints into word vectors. (Note that the method of creating a vector is different from our previous work with NLTK; as you'll see, word order will be preserved as opposed to a bag of words representation). In the below code, we'll only keep the 2,000 most common words and use one-hot encoding.\n",
        "\n"
      ]
    },
    {
      "cell_type": "code",
      "execution_count": null,
      "metadata": {
        "id": "dFvf7erT28Cv"
      },
      "outputs": [],
      "source": [
        "# As a quick preliminary, briefly review the docstring for keras.preprocessing.text.Tokenizer\n",
        "Tokenizer?"
      ]
    },
    {
      "cell_type": "code",
      "execution_count": null,
      "metadata": {
        "id": "m2ZlWc9M28Cw"
      },
      "outputs": [],
      "source": [
        "# ⏰ This cell may take about thirty seconds to run\n",
        "\n",
        "# Raw text complaints\n",
        "complaints = df['Consumer complaint narrative']\n",
        "\n",
        "# Initialize a tokenizer\n",
        "tokenizer = Tokenizer(num_words=2000)\n",
        "\n",
        "# Fit it to the complaints\n",
        "tokenizer.fit_on_texts(complaints)\n",
        "\n",
        "# Generate sequences\n",
        "sequences = tokenizer.texts_to_sequences(complaints)\n",
        "print('sequences type:', type(sequences))\n",
        "\n",
        "# Similar to sequences, but returns a numpy array\n",
        "one_hot_results= tokenizer.texts_to_matrix(complaints, mode='binary')\n",
        "print('one_hot_results type:', type(one_hot_results))\n",
        "\n",
        "# Useful if we wish to decode (more explanation below)\n",
        "word_index = tokenizer.word_index\n",
        "\n",
        "# Tokens are the number of unique words across the corpus\n",
        "print('Found %s unique tokens.' % len(word_index))\n",
        "\n",
        "# Our coded data\n",
        "print('Dimensions of our coded results:', np.shape(one_hot_results))"
      ]
    },
    {
      "cell_type": "markdown",
      "metadata": {
        "id": "zGTIQhAH28Cw"
      },
      "source": [
        "## Decoding Word Vectors\n",
        "\n",
        "As a note, you can also decode these vectorized representations of the reviews. The `word_index` variable, defined above, stores the mapping from the label number to the actual word. Somewhat tediously, we can turn this dictionary inside out and map it back to our word vectors, giving us roughly the original complaint back. (As you'll see, the text won't be identical as we limited ourselves to top 2000 words.)\n",
        "\n",
        "## Python Review / Mini Challenge\n",
        "\n",
        "While a bit tangential to our main topic of interest, we need to reverse our current dictionary `word_index` which maps words from our corpus to integers. In decoding our `one_hot_results`, we will need to create a dictionary of these integers to the original words. Below, take the `word_index` dictionary object and change the orientation so that the values are keys and the keys values. In other words, you are transforming something of the form {A:1, B:2, C:3} to {1:A, 2:B, 3:C}."
      ]
    },
    {
      "cell_type": "code",
      "execution_count": null,
      "metadata": {
        "id": "6ndIoQJX28Cx"
      },
      "outputs": [],
      "source": [
        "# Your code here\n",
        "reverse_index = None"
      ]
    },
    {
      "cell_type": "markdown",
      "metadata": {
        "id": "z45tH9XR28Cx"
      },
      "source": [
        "## Back to Decoding Our Word Vectors..."
      ]
    },
    {
      "cell_type": "code",
      "execution_count": null,
      "metadata": {
        "id": "Tp57TGko28Cy"
      },
      "outputs": [],
      "source": [
        "comment_idx_to_preview = 19\n",
        "print('Original complaint text:')\n",
        "print(complaints[comment_idx_to_preview])\n",
        "print('\\n\\n')\n",
        "\n",
        "# The reverse_index cell block above must be complete in order for this cell block to successively execute\n",
        "decoded_review = ' '.join([reverse_index.get(i) for i in sequences[comment_idx_to_preview]])\n",
        "print('Decoded review from Tokenizer:')\n",
        "print(decoded_review)"
      ]
    },
    {
      "cell_type": "markdown",
      "metadata": {
        "id": "rFsUMD4s28Cy"
      },
      "source": [
        "## Convert the Products to Numerical Categories\n",
        "\n",
        "On to step two of our preprocessing: converting our descriptive categories into integers."
      ]
    },
    {
      "cell_type": "code",
      "execution_count": null,
      "metadata": {
        "id": "QpcPv14n28Cy"
      },
      "outputs": [],
      "source": [
        "product = df['Product']\n",
        "\n",
        "# Initialize\n",
        "le = preprocessing.LabelEncoder()\n",
        "le.fit(product)\n",
        "print('Original class labels:')\n",
        "print(list(le.classes_))\n",
        "print('\\n')\n",
        "product_cat = le.transform(product)\n",
        "\n",
        "# If you wish to retrieve the original descriptive labels post production\n",
        "# list(le.inverse_transform([0, 1, 3, 3, 0, 6, 4]))\n",
        "\n",
        "print('New product labels:')\n",
        "print(product_cat)\n",
        "print('\\n')\n",
        "\n",
        "# Each row will be all zeros except for the category for that observation\n",
        "print('One hot labels; 7 binary columns, one for each of the categories.')\n",
        "product_onehot = to_categorical(product_cat)\n",
        "print(product_onehot)\n",
        "print('\\n')\n",
        "\n",
        "print('One hot labels shape:')\n",
        "print(np.shape(product_onehot))"
      ]
    },
    {
      "cell_type": "markdown",
      "metadata": {
        "id": "Tm58wryf28Cy"
      },
      "source": [
        "## Train-test split\n",
        "\n",
        "Now for our final preprocessing step: the usual train-test split."
      ]
    },
    {
      "cell_type": "code",
      "execution_count": null,
      "metadata": {
        "id": "flKIGQoP28Cy"
      },
      "outputs": [],
      "source": [
        "random.seed(123)\n",
        "test_index = random.sample(range(1,10000), 1500)\n",
        "\n",
        "test = one_hot_results[test_index]\n",
        "train = np.delete(one_hot_results, test_index, 0)\n",
        "\n",
        "label_test = product_onehot[test_index]\n",
        "label_train = np.delete(product_onehot, test_index, 0)\n",
        "\n",
        "print('Test label shape:', np.shape(label_test))\n",
        "print('Train label shape:', np.shape(label_train))\n",
        "print('Test shape:', np.shape(test))\n",
        "print('Train shape:', np.shape(train))"
      ]
    },
    {
      "cell_type": "markdown",
      "metadata": {
        "id": "MT20F6Ku28Cz"
      },
      "source": [
        "## Building the network\n",
        "\n",
        "Let's build a fully connected (Dense) layer network with relu activation in Keras. You can do this using: `Dense(16, activation='relu')`.\n",
        "\n",
        "In this example, use two hidden layers with 50 units in the first layer and 25 in the second, both with a `'relu'` activation function. Because we are dealing with a multiclass problem (classifying the complaints into 7 categories), we use a use a `'softmax'` classifier in order to output 7 class probabilities per case.  "
      ]
    },
    {
      "cell_type": "code",
      "execution_count": null,
      "metadata": {
        "id": "sZiXmu9j28Cz"
      },
      "outputs": [],
      "source": [
        "# Initialize a sequential model\n",
        "model = None\n",
        "\n",
        "# Two layers with relu activation\n",
        "\n",
        "\n",
        "\n",
        "# One layer with softmax activation\n"
      ]
    },
    {
      "cell_type": "markdown",
      "metadata": {
        "id": "QpHKl7GT28Cz"
      },
      "source": [
        "## Compiling the model\n",
        "\n",
        "Now, compile the model! This time, use `'categorical_crossentropy'` as the loss function and stochastic gradient descent, `'SGD'` as the optimizer. As in the previous lesson, include the accuracy as a metric."
      ]
    },
    {
      "cell_type": "code",
      "execution_count": null,
      "metadata": {
        "id": "lRxSqwJ628Cz"
      },
      "outputs": [],
      "source": [
        "# Compile the model\n"
      ]
    },
    {
      "cell_type": "markdown",
      "metadata": {
        "id": "ey7kqRXn28Cz"
      },
      "source": [
        "## Training the model\n",
        "\n",
        "In the compiler, you'll be passing the optimizer (SGD = stochastic gradient descent), loss function, and metrics. Train the model for 120 epochs in mini-batches of 256 samples.\n",
        "\n",
        "_Note:_ ⏰ _Your code may take about one to two minutes to run._"
      ]
    },
    {
      "cell_type": "code",
      "execution_count": null,
      "metadata": {
        "id": "H5YVUiR928Cz"
      },
      "outputs": [],
      "source": [
        "# Train the model\n",
        "history = None"
      ]
    },
    {
      "cell_type": "markdown",
      "metadata": {
        "id": "FTSBYCUa28C0"
      },
      "source": [
        "Recall that the dictionary `history` has two entries: the loss and the accuracy achieved using the training set."
      ]
    },
    {
      "cell_type": "code",
      "execution_count": null,
      "metadata": {
        "id": "jN7svtMF28C0"
      },
      "outputs": [],
      "source": [
        "history_dict = history.history\n",
        "history_dict.keys()"
      ]
    },
    {
      "cell_type": "markdown",
      "metadata": {
        "id": "GFrvyr5b28C0"
      },
      "source": [
        "## Plot the results\n",
        "\n",
        "As you might expect, we'll use our `matplotlib` for graphing. Use the data stored in the `history_dict` above to plot the loss vs epochs and the accuracy vs epochs."
      ]
    },
    {
      "cell_type": "code",
      "execution_count": null,
      "metadata": {
        "id": "BoMbDhcl28C0"
      },
      "outputs": [],
      "source": [
        "# Plot the loss vs the number of epoch"
      ]
    },
    {
      "cell_type": "code",
      "execution_count": null,
      "metadata": {
        "id": "lOho4wwU28C0"
      },
      "outputs": [],
      "source": [
        "# Plot the training accuracy vs the number of epochs\n"
      ]
    },
    {
      "cell_type": "markdown",
      "metadata": {
        "id": "rNYG2VJU28C0"
      },
      "source": [
        "It seems like we could just keep on going and accuracy would go up!"
      ]
    },
    {
      "cell_type": "markdown",
      "metadata": {
        "id": "ejFplwup28C0"
      },
      "source": [
        "## Make predictions\n",
        "\n",
        "Finally, it's time to make predictions. Use the relevant method discussed in the previous lesson to output (probability) predictions for the test set."
      ]
    },
    {
      "cell_type": "code",
      "execution_count": null,
      "metadata": {
        "id": "6Ebf0nWT28C0"
      },
      "outputs": [],
      "source": [
        "# Output (probability) predictions for the test set\n",
        "y_hat_test = None"
      ]
    },
    {
      "cell_type": "markdown",
      "metadata": {
        "id": "eFNy6nyN28C1"
      },
      "source": [
        "## Evaluate Performance\n",
        "\n",
        "Finally, print the loss and accuracy for both the train and test sets of the final trained model."
      ]
    },
    {
      "cell_type": "code",
      "execution_count": null,
      "metadata": {
        "id": "TfDCg71R28C1"
      },
      "outputs": [],
      "source": [
        "# Print the loss and accuracy for the training set\n",
        "results_train = None\n",
        "results_train"
      ]
    },
    {
      "cell_type": "code",
      "execution_count": null,
      "metadata": {
        "id": "_CwDXS1b28C2"
      },
      "outputs": [],
      "source": [
        "# Print the loss and accuracy for the test set\n",
        "results_test = None\n",
        "results_test"
      ]
    },
    {
      "cell_type": "markdown",
      "metadata": {
        "id": "Z0wUIHZ328C2"
      },
      "source": [
        "We can see that the training set results are really good, and the test set results seem to be even better. In general, this type of result will be rare, as train set results are usually at least a bit better than test set results.\n",
        "\n",
        "## Summary\n",
        "\n",
        "Congratulations! In this lab, you built a neural network thanks to the tools provided by Keras! In upcoming lessons and labs we'll continue to investigate further ideas regarding how to tune and refine these models for increased accuracy and performance."
      ]
    },
    {
      "cell_type": "code",
      "source": [
        "#Me trying some stuff out from a short video on building NN's\n",
        "import numpy as np\n",
        "from sklearn.datasets import make_regression\n",
        "from sklearn.linear_model import LinearRegression\n",
        "from sklearn.metrics import mean_squared_error as mse"
      ],
      "metadata": {
        "id": "1YMn-zxF2_yv"
      },
      "execution_count": 1,
      "outputs": []
    },
    {
      "cell_type": "code",
      "source": [
        "X, y = make_regression(n_features = 2,\n",
        "                       n_informative = 1,\n",
        "                       noise = 100,\n",
        "                       random_state = 42)"
      ],
      "metadata": {
        "id": "FokF3Ejj3Aop"
      },
      "execution_count": 2,
      "outputs": []
    },
    {
      "cell_type": "code",
      "source": [
        "linreg = LinearRegression()\n",
        "linreg.fit(X, y).score(X, y)"
      ],
      "metadata": {
        "colab": {
          "base_uri": "https://localhost:8080/"
        },
        "id": "bKOS10Ue3mi4",
        "outputId": "8b93be8b-f9e6-4f15-ca86-5ac059726873"
      },
      "execution_count": 3,
      "outputs": [
        {
          "output_type": "execute_result",
          "data": {
            "text/plain": [
              "0.4144461358278726"
            ]
          },
          "metadata": {},
          "execution_count": 3
        }
      ]
    },
    {
      "cell_type": "code",
      "source": [
        "X.shape"
      ],
      "metadata": {
        "colab": {
          "base_uri": "https://localhost:8080/"
        },
        "id": "pwi2vwCS3vJE",
        "outputId": "6c1e108e-5e1b-4556-92a3-cb83e914948b"
      },
      "execution_count": 5,
      "outputs": [
        {
          "output_type": "execute_result",
          "data": {
            "text/plain": [
              "(100, 2)"
            ]
          },
          "metadata": {},
          "execution_count": 5
        }
      ]
    },
    {
      "cell_type": "code",
      "source": [
        "y.shape"
      ],
      "metadata": {
        "colab": {
          "base_uri": "https://localhost:8080/"
        },
        "id": "JmSrJOVg45Cg",
        "outputId": "2d6ce3f1-ee66-45d2-ef9a-1b859c591791"
      },
      "execution_count": 7,
      "outputs": [
        {
          "output_type": "execute_result",
          "data": {
            "text/plain": [
              "(100,)"
            ]
          },
          "metadata": {},
          "execution_count": 7
        }
      ]
    },
    {
      "cell_type": "code",
      "source": [
        "y[0:10]"
      ],
      "metadata": {
        "colab": {
          "base_uri": "https://localhost:8080/"
        },
        "id": "btNjf7pq40Rp",
        "outputId": "12cd6f52-7ea7-41cf-97e2-b6dc7f5fa744"
      },
      "execution_count": 8,
      "outputs": [
        {
          "output_type": "execute_result",
          "data": {
            "text/plain": [
              "array([ -86.45119104,  110.51001716,  -57.28377464, -256.31443259,\n",
              "         60.82745498,  -58.76914197,    7.00903069,  114.58447502,\n",
              "        310.19242342,   16.59536815])"
            ]
          },
          "metadata": {},
          "execution_count": 8
        }
      ]
    },
    {
      "cell_type": "code",
      "source": [
        "X_2, y_2 = make_regression(n_features = 2,\n",
        "                       n_informative = 1,\n",
        "                       noise = 50,\n",
        "                       random_state = 42)\n",
        "linreg.fit(X_2, y_2).score(X_2, y_2)"
      ],
      "metadata": {
        "colab": {
          "base_uri": "https://localhost:8080/"
        },
        "id": "a76cPXtz3xNd",
        "outputId": "66d267f0-7cd9-46a2-d785-2dd762660a35"
      },
      "execution_count": 9,
      "outputs": [
        {
          "output_type": "execute_result",
          "data": {
            "text/plain": [
              "0.7131845881420126"
            ]
          },
          "metadata": {},
          "execution_count": 9
        }
      ]
    },
    {
      "cell_type": "code",
      "source": [
        "np.random.rand(2)"
      ],
      "metadata": {
        "colab": {
          "base_uri": "https://localhost:8080/"
        },
        "id": "QHybgBY55IAV",
        "outputId": "78ab9ad7-87ca-480f-cd96-316167c42878"
      },
      "execution_count": 11,
      "outputs": [
        {
          "output_type": "execute_result",
          "data": {
            "text/plain": [
              "array([0.24844698, 0.99362556])"
            ]
          },
          "metadata": {},
          "execution_count": 11
        }
      ]
    },
    {
      "cell_type": "code",
      "source": [
        "np.random.rand(4,3)"
      ],
      "metadata": {
        "id": "hAd80PqN8o6M",
        "outputId": "466b9a8b-a834-4df8-ab26-9282499a7d3b",
        "colab": {
          "base_uri": "https://localhost:8080/"
        }
      },
      "execution_count": 12,
      "outputs": [
        {
          "output_type": "execute_result",
          "data": {
            "text/plain": [
              "array([[0.73297071, 0.56669941, 0.09732822],\n",
              "       [0.58525376, 0.04847888, 0.07773121],\n",
              "       [0.0337703 , 0.28439405, 0.71779533],\n",
              "       [0.04523771, 0.4288909 , 0.11838   ]])"
            ]
          },
          "metadata": {},
          "execution_count": 12
        }
      ]
    },
    {
      "cell_type": "code",
      "source": [
        "X"
      ],
      "metadata": {
        "id": "pQjCNsw58yiN",
        "outputId": "6f451318-0ac6-436a-c17b-68d527c96a96",
        "colab": {
          "base_uri": "https://localhost:8080/"
        }
      },
      "execution_count": 13,
      "outputs": [
        {
          "output_type": "execute_result",
          "data": {
            "text/plain": [
              "array([[-1.41537074, -0.42064532],\n",
              "       [ 0.52194157,  0.29698467],\n",
              "       [-0.88951443, -0.81581028],\n",
              "       [-0.88385744,  0.15372511],\n",
              "       [ 0.73846658,  0.17136828],\n",
              "       [-0.26465683,  2.72016917],\n",
              "       [ 1.14282281,  0.75193303],\n",
              "       [ 0.36139561,  1.53803657],\n",
              "       [ 0.81252582,  1.35624003],\n",
              "       [-0.22346279,  0.71400049],\n",
              "       [-1.10633497, -1.19620662],\n",
              "       [-0.84679372, -1.51484722],\n",
              "       [-0.60063869, -0.29169375],\n",
              "       [ 0.00511346, -0.23458713],\n",
              "       [-0.23415337, -0.23413696],\n",
              "       [-1.60748323,  0.18463386],\n",
              "       [ 0.09707755,  0.96864499],\n",
              "       [ 0.32408397, -0.38508228],\n",
              "       [-0.39210815, -1.46351495],\n",
              "       [-0.07201012,  1.0035329 ],\n",
              "       [-0.46341769, -0.46572975],\n",
              "       [ 1.8861859 ,  0.17457781],\n",
              "       [ 1.57921282,  0.76743473],\n",
              "       [ 0.09965137, -0.50347565],\n",
              "       [ 0.81351722, -1.23086432],\n",
              "       [-1.1913035 ,  0.65655361],\n",
              "       [ 0.58685709,  2.19045563],\n",
              "       [-1.32818605,  0.19686124],\n",
              "       [-0.11564828, -0.3011037 ],\n",
              "       [ 0.49671415, -0.1382643 ],\n",
              "       [-0.21967189,  0.35711257],\n",
              "       [-1.55066343,  0.06856297],\n",
              "       [-1.72491783, -0.56228753],\n",
              "       [ 1.86577451,  0.47383292],\n",
              "       [-0.07710171,  0.34115197],\n",
              "       [-1.91877122, -0.02651388],\n",
              "       [ 0.64768854,  1.52302986],\n",
              "       [-0.676922  ,  0.61167629],\n",
              "       [ 1.15859558, -0.82068232],\n",
              "       [ 0.09176078, -1.98756891],\n",
              "       [-0.24538812, -0.75373616],\n",
              "       [ 0.24196227, -1.91328024],\n",
              "       [-2.6197451 ,  0.8219025 ],\n",
              "       [ 0.2766908 ,  0.82718325],\n",
              "       [ 0.91540212,  0.32875111],\n",
              "       [-0.90802408, -1.4123037 ],\n",
              "       [-0.68002472,  0.2322537 ],\n",
              "       [ 0.29307247, -0.71435142],\n",
              "       [-0.70205309, -0.32766215],\n",
              "       [ 0.82254491, -1.22084365],\n",
              "       [ 1.46564877, -0.2257763 ],\n",
              "       [-0.8084936 , -0.50175704],\n",
              "       [-0.83921752, -0.30921238],\n",
              "       [-1.06230371,  0.47359243],\n",
              "       [ 0.36163603, -0.64511975],\n",
              "       [-0.46947439,  0.54256004],\n",
              "       [-0.47917424, -0.18565898],\n",
              "       [-1.15099358,  0.37569802],\n",
              "       [-0.99053633, -0.56629773],\n",
              "       [-0.19236096,  0.30154734],\n",
              "       [ 1.47789404, -0.51827022],\n",
              "       [-0.91942423,  1.54993441],\n",
              "       [-0.5297602 ,  0.51326743],\n",
              "       [ 0.08704707, -0.29900735],\n",
              "       [ 0.06023021,  2.46324211],\n",
              "       [ 0.25988279,  0.78182287],\n",
              "       [ 0.62566735, -0.85715756],\n",
              "       [-0.16128571,  0.40405086],\n",
              "       [-1.23695071, -1.32045661],\n",
              "       [ 0.34361829, -1.76304016],\n",
              "       [-0.97468167,  0.7870846 ],\n",
              "       [-0.78325329, -0.32206152],\n",
              "       [-0.60170661,  1.85227818],\n",
              "       [-0.34271452, -0.80227727],\n",
              "       [ 1.03099952,  0.93128012],\n",
              "       [ 0.22745993,  1.30714275],\n",
              "       [-1.01283112,  0.31424733],\n",
              "       [ 0.25049285,  0.34644821],\n",
              "       [ 0.96337613,  0.41278093],\n",
              "       [ 0.79103195, -0.90938745],\n",
              "       [ 0.47323762, -0.07282891],\n",
              "       [ 0.29612028,  0.26105527],\n",
              "       [ 0.2088636 , -1.95967012],\n",
              "       [-0.03471177, -1.16867804],\n",
              "       [-1.0708925 ,  0.48247242],\n",
              "       [ 0.82206016,  1.89679298],\n",
              "       [ 0.21409374, -1.24573878],\n",
              "       [-0.01349722, -1.05771093],\n",
              "       [ 0.33126343,  0.97554513],\n",
              "       [ 0.01300189,  1.45353408],\n",
              "       [ 0.17318093,  0.38531738],\n",
              "       [-0.54438272,  0.11092259],\n",
              "       [ 0.25755039, -0.07444592],\n",
              "       [ 0.0675282 , -1.42474819],\n",
              "       [-0.03582604,  1.56464366],\n",
              "       [ 0.05820872, -1.1429703 ],\n",
              "       [ 1.40279431, -1.40185106],\n",
              "       [-1.47852199, -0.71984421],\n",
              "       [-0.46063877,  1.05712223],\n",
              "       [-0.44651495,  0.85639879]])"
            ]
          },
          "metadata": {},
          "execution_count": 13
        }
      ]
    },
    {
      "cell_type": "code",
      "source": [
        "a = np.random.rand(1,3)\n",
        "b = np.random.rand(1,3)\n",
        "a, b"
      ],
      "metadata": {
        "id": "4locqdgWA-20",
        "outputId": "8310f69f-ee4b-42d1-aaa1-5337d0a9dfff",
        "colab": {
          "base_uri": "https://localhost:8080/"
        }
      },
      "execution_count": 17,
      "outputs": [
        {
          "output_type": "execute_result",
          "data": {
            "text/plain": [
              "(array([[0.70586544, 0.6539683 , 0.87164084]]),\n",
              " array([[0.55320201, 0.72374856, 0.67350014]]))"
            ]
          },
          "metadata": {},
          "execution_count": 17
        }
      ]
    },
    {
      "cell_type": "code",
      "source": [
        "np.hstack((a, b))"
      ],
      "metadata": {
        "id": "pP6JK1f8GYYY",
        "outputId": "cf703eeb-2991-48a2-c26b-eba91f489497",
        "colab": {
          "base_uri": "https://localhost:8080/"
        }
      },
      "execution_count": 20,
      "outputs": [
        {
          "output_type": "execute_result",
          "data": {
            "text/plain": [
              "array([[0.70586544, 0.6539683 , 0.87164084, 0.55320201, 0.72374856,\n",
              "        0.67350014]])"
            ]
          },
          "metadata": {},
          "execution_count": 20
        }
      ]
    },
    {
      "cell_type": "code",
      "source": [
        "np.vstack((a,b))"
      ],
      "metadata": {
        "id": "HX6I0p5RGaiT",
        "outputId": "55c6b653-0f62-4b3c-9924-76de73285ac8",
        "colab": {
          "base_uri": "https://localhost:8080/"
        }
      },
      "execution_count": 21,
      "outputs": [
        {
          "output_type": "execute_result",
          "data": {
            "text/plain": [
              "array([[0.70586544, 0.6539683 , 0.87164084],\n",
              "       [0.55320201, 0.72374856, 0.67350014]])"
            ]
          },
          "metadata": {},
          "execution_count": 21
        }
      ]
    },
    {
      "cell_type": "code",
      "source": [
        "c = np.random.rand(3,1)\n",
        "d = np.random.rand(3,1)\n",
        "c, d"
      ],
      "metadata": {
        "id": "Fh9NNQGKG9yf",
        "outputId": "7cda8412-eb09-4b48-92d7-509582e6c92c",
        "colab": {
          "base_uri": "https://localhost:8080/"
        }
      },
      "execution_count": 24,
      "outputs": [
        {
          "output_type": "execute_result",
          "data": {
            "text/plain": [
              "(array([[0.45070857],\n",
              "        [0.44165713],\n",
              "        [0.96236974]]),\n",
              " array([[0.42444334],\n",
              "        [0.36153809],\n",
              "        [0.97200155]]))"
            ]
          },
          "metadata": {},
          "execution_count": 24
        }
      ]
    },
    {
      "cell_type": "code",
      "source": [
        "np.hstack((c,d))"
      ],
      "metadata": {
        "id": "3XVV5MuCHIXE",
        "outputId": "59c2ea98-e42c-49f5-e878-ac5fd303193d",
        "colab": {
          "base_uri": "https://localhost:8080/"
        }
      },
      "execution_count": 25,
      "outputs": [
        {
          "output_type": "execute_result",
          "data": {
            "text/plain": [
              "array([[0.45070857, 0.42444334],\n",
              "       [0.44165713, 0.36153809],\n",
              "       [0.96236974, 0.97200155]])"
            ]
          },
          "metadata": {},
          "execution_count": 25
        }
      ]
    },
    {
      "cell_type": "code",
      "source": [
        "np.vstack((c,d))"
      ],
      "metadata": {
        "id": "p0dGiWVMHSRB",
        "outputId": "048cfc42-c64d-4a1c-baf1-6f94c28f57d7",
        "colab": {
          "base_uri": "https://localhost:8080/"
        }
      },
      "execution_count": 26,
      "outputs": [
        {
          "output_type": "execute_result",
          "data": {
            "text/plain": [
              "array([[0.45070857],\n",
              "       [0.44165713],\n",
              "       [0.96236974],\n",
              "       [0.42444334],\n",
              "       [0.36153809],\n",
              "       [0.97200155]])"
            ]
          },
          "metadata": {},
          "execution_count": 26
        }
      ]
    },
    {
      "cell_type": "code",
      "source": [],
      "metadata": {
        "id": "MVsAHlb5HUs3"
      },
      "execution_count": null,
      "outputs": []
    }
  ],
  "metadata": {
    "kernelspec": {
      "display_name": "Python 3",
      "language": "python",
      "name": "python3"
    },
    "language_info": {
      "codemirror_mode": {
        "name": "ipython",
        "version": 3
      },
      "file_extension": ".py",
      "mimetype": "text/x-python",
      "name": "python",
      "nbconvert_exporter": "python",
      "pygments_lexer": "ipython3",
      "version": "3.6.9"
    },
    "toc": {
      "base_numbering": 1,
      "nav_menu": {},
      "number_sections": true,
      "sideBar": true,
      "skip_h1_title": false,
      "title_cell": "Table of Contents",
      "title_sidebar": "Contents",
      "toc_cell": false,
      "toc_position": {},
      "toc_section_display": true,
      "toc_window_display": false
    },
    "colab": {
      "provenance": []
    }
  },
  "nbformat": 4,
  "nbformat_minor": 0
}