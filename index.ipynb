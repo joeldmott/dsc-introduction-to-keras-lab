{
  "cells": [
    {
      "cell_type": "markdown",
      "metadata": {
        "id": "0NBcxFXJ28Cr"
      },
      "source": [
        "# Keras - Lab\n",
        "\n",
        "## Introduction\n",
        "\n",
        "In this lab you'll once again build a neural network, but this time you will be using Keras to do a lot of the heavy lifting.\n",
        "\n",
        "\n",
        "## Objectives\n",
        "\n",
        "You will be able to:\n",
        "\n",
        "- Build a neural network using Keras\n",
        "- Evaluate performance of a neural network using Keras"
      ]
    },
    {
      "cell_type": "markdown",
      "metadata": {
        "id": "YrXmrwO028Ct"
      },
      "source": [
        "## Required Packages\n",
        "\n",
        "We'll start by importing all of the required packages and classes."
      ]
    },
    {
      "cell_type": "code",
      "execution_count": null,
      "metadata": {
        "id": "Bp8IWs2T28Ct"
      },
      "outputs": [],
      "source": [
        "import matplotlib.pyplot as plt\n",
        "import pandas as pd\n",
        "import numpy as np\n",
        "import random\n",
        "from sklearn.model_selection import train_test_split\n",
        "from keras.utils.np_utils import to_categorical\n",
        "from sklearn import preprocessing\n",
        "from keras.preprocessing.text import Tokenizer\n",
        "from keras import models\n",
        "from keras import layers\n",
        "from keras import optimizers"
      ]
    },
    {
      "cell_type": "markdown",
      "metadata": {
        "id": "CUO48KZn28Cu"
      },
      "source": [
        "## Load the data\n",
        "\n",
        "In this lab you will be classifying bank complaints available in the `'Bank_complaints.csv'` file."
      ]
    },
    {
      "cell_type": "code",
      "execution_count": null,
      "metadata": {
        "id": "snpMPhyT28Cv"
      },
      "outputs": [],
      "source": [
        "# Import data\n",
        "df = None\n",
        "\n",
        "# Inspect data\n",
        "print(df.info())\n",
        "df.head()"
      ]
    },
    {
      "cell_type": "markdown",
      "metadata": {
        "id": "fsfLniVe28Cv"
      },
      "source": [
        "As mentioned earlier, your task is to categorize banking complaints into various predefined categories. Preview what these categories are and what percent of the complaints each accounts for."
      ]
    },
    {
      "cell_type": "code",
      "execution_count": null,
      "metadata": {
        "id": "PIOYaG-K28Cv"
      },
      "outputs": [],
      "source": [
        "# Your code here"
      ]
    },
    {
      "cell_type": "markdown",
      "metadata": {
        "id": "z8d459hw28Cv"
      },
      "source": [
        "## Preprocessing\n",
        "\n",
        "Before we build our neural network, we need to do several preprocessing steps. First, we will create word vector counts (a bag of words type representation) of our complaints text. Next, we will change the category labels to integers. Finally, we will perform our usual train-test split before building and training our neural network using Keras. With that, let's start munging our data!\n",
        "\n",
        "## One-hot encoding of the complaints\n",
        "\n",
        "Our first step again is to transform our textual data into a numerical representation. As we saw in some of our previous lessons on NLP, there are many ways to do this. Here, we'll use the `Tokenizer()` class from the `preprocessing.text` sub-module of the Keras package.   \n",
        "\n",
        "As with our previous work using NLTK, this will transform our text complaints into word vectors. (Note that the method of creating a vector is different from our previous work with NLTK; as you'll see, word order will be preserved as opposed to a bag of words representation). In the below code, we'll only keep the 2,000 most common words and use one-hot encoding.\n",
        "\n"
      ]
    },
    {
      "cell_type": "code",
      "execution_count": null,
      "metadata": {
        "id": "dFvf7erT28Cv"
      },
      "outputs": [],
      "source": [
        "# As a quick preliminary, briefly review the docstring for keras.preprocessing.text.Tokenizer\n",
        "Tokenizer?"
      ]
    },
    {
      "cell_type": "code",
      "execution_count": null,
      "metadata": {
        "id": "m2ZlWc9M28Cw"
      },
      "outputs": [],
      "source": [
        "# ⏰ This cell may take about thirty seconds to run\n",
        "\n",
        "# Raw text complaints\n",
        "complaints = df['Consumer complaint narrative']\n",
        "\n",
        "# Initialize a tokenizer\n",
        "tokenizer = Tokenizer(num_words=2000)\n",
        "\n",
        "# Fit it to the complaints\n",
        "tokenizer.fit_on_texts(complaints)\n",
        "\n",
        "# Generate sequences\n",
        "sequences = tokenizer.texts_to_sequences(complaints)\n",
        "print('sequences type:', type(sequences))\n",
        "\n",
        "# Similar to sequences, but returns a numpy array\n",
        "one_hot_results= tokenizer.texts_to_matrix(complaints, mode='binary')\n",
        "print('one_hot_results type:', type(one_hot_results))\n",
        "\n",
        "# Useful if we wish to decode (more explanation below)\n",
        "word_index = tokenizer.word_index\n",
        "\n",
        "# Tokens are the number of unique words across the corpus\n",
        "print('Found %s unique tokens.' % len(word_index))\n",
        "\n",
        "# Our coded data\n",
        "print('Dimensions of our coded results:', np.shape(one_hot_results))"
      ]
    },
    {
      "cell_type": "markdown",
      "metadata": {
        "id": "zGTIQhAH28Cw"
      },
      "source": [
        "## Decoding Word Vectors\n",
        "\n",
        "As a note, you can also decode these vectorized representations of the reviews. The `word_index` variable, defined above, stores the mapping from the label number to the actual word. Somewhat tediously, we can turn this dictionary inside out and map it back to our word vectors, giving us roughly the original complaint back. (As you'll see, the text won't be identical as we limited ourselves to top 2000 words.)\n",
        "\n",
        "## Python Review / Mini Challenge\n",
        "\n",
        "While a bit tangential to our main topic of interest, we need to reverse our current dictionary `word_index` which maps words from our corpus to integers. In decoding our `one_hot_results`, we will need to create a dictionary of these integers to the original words. Below, take the `word_index` dictionary object and change the orientation so that the values are keys and the keys values. In other words, you are transforming something of the form {A:1, B:2, C:3} to {1:A, 2:B, 3:C}."
      ]
    },
    {
      "cell_type": "code",
      "execution_count": null,
      "metadata": {
        "id": "6ndIoQJX28Cx"
      },
      "outputs": [],
      "source": [
        "# Your code here\n",
        "reverse_index = None"
      ]
    },
    {
      "cell_type": "markdown",
      "metadata": {
        "id": "z45tH9XR28Cx"
      },
      "source": [
        "## Back to Decoding Our Word Vectors..."
      ]
    },
    {
      "cell_type": "code",
      "execution_count": null,
      "metadata": {
        "id": "Tp57TGko28Cy"
      },
      "outputs": [],
      "source": [
        "comment_idx_to_preview = 19\n",
        "print('Original complaint text:')\n",
        "print(complaints[comment_idx_to_preview])\n",
        "print('\\n\\n')\n",
        "\n",
        "# The reverse_index cell block above must be complete in order for this cell block to successively execute\n",
        "decoded_review = ' '.join([reverse_index.get(i) for i in sequences[comment_idx_to_preview]])\n",
        "print('Decoded review from Tokenizer:')\n",
        "print(decoded_review)"
      ]
    },
    {
      "cell_type": "markdown",
      "metadata": {
        "id": "rFsUMD4s28Cy"
      },
      "source": [
        "## Convert the Products to Numerical Categories\n",
        "\n",
        "On to step two of our preprocessing: converting our descriptive categories into integers."
      ]
    },
    {
      "cell_type": "code",
      "execution_count": null,
      "metadata": {
        "id": "QpcPv14n28Cy"
      },
      "outputs": [],
      "source": [
        "product = df['Product']\n",
        "\n",
        "# Initialize\n",
        "le = preprocessing.LabelEncoder()\n",
        "le.fit(product)\n",
        "print('Original class labels:')\n",
        "print(list(le.classes_))\n",
        "print('\\n')\n",
        "product_cat = le.transform(product)\n",
        "\n",
        "# If you wish to retrieve the original descriptive labels post production\n",
        "# list(le.inverse_transform([0, 1, 3, 3, 0, 6, 4]))\n",
        "\n",
        "print('New product labels:')\n",
        "print(product_cat)\n",
        "print('\\n')\n",
        "\n",
        "# Each row will be all zeros except for the category for that observation\n",
        "print('One hot labels; 7 binary columns, one for each of the categories.')\n",
        "product_onehot = to_categorical(product_cat)\n",
        "print(product_onehot)\n",
        "print('\\n')\n",
        "\n",
        "print('One hot labels shape:')\n",
        "print(np.shape(product_onehot))"
      ]
    },
    {
      "cell_type": "markdown",
      "metadata": {
        "id": "Tm58wryf28Cy"
      },
      "source": [
        "## Train-test split\n",
        "\n",
        "Now for our final preprocessing step: the usual train-test split."
      ]
    },
    {
      "cell_type": "code",
      "execution_count": null,
      "metadata": {
        "id": "flKIGQoP28Cy"
      },
      "outputs": [],
      "source": [
        "random.seed(123)\n",
        "test_index = random.sample(range(1,10000), 1500)\n",
        "\n",
        "test = one_hot_results[test_index]\n",
        "train = np.delete(one_hot_results, test_index, 0)\n",
        "\n",
        "label_test = product_onehot[test_index]\n",
        "label_train = np.delete(product_onehot, test_index, 0)\n",
        "\n",
        "print('Test label shape:', np.shape(label_test))\n",
        "print('Train label shape:', np.shape(label_train))\n",
        "print('Test shape:', np.shape(test))\n",
        "print('Train shape:', np.shape(train))"
      ]
    },
    {
      "cell_type": "markdown",
      "metadata": {
        "id": "MT20F6Ku28Cz"
      },
      "source": [
        "## Building the network\n",
        "\n",
        "Let's build a fully connected (Dense) layer network with relu activation in Keras. You can do this using: `Dense(16, activation='relu')`.\n",
        "\n",
        "In this example, use two hidden layers with 50 units in the first layer and 25 in the second, both with a `'relu'` activation function. Because we are dealing with a multiclass problem (classifying the complaints into 7 categories), we use a use a `'softmax'` classifier in order to output 7 class probabilities per case.  "
      ]
    },
    {
      "cell_type": "code",
      "execution_count": null,
      "metadata": {
        "id": "sZiXmu9j28Cz"
      },
      "outputs": [],
      "source": [
        "# Initialize a sequential model\n",
        "model = None\n",
        "\n",
        "# Two layers with relu activation\n",
        "\n",
        "\n",
        "\n",
        "# One layer with softmax activation\n"
      ]
    },
    {
      "cell_type": "markdown",
      "metadata": {
        "id": "QpHKl7GT28Cz"
      },
      "source": [
        "## Compiling the model\n",
        "\n",
        "Now, compile the model! This time, use `'categorical_crossentropy'` as the loss function and stochastic gradient descent, `'SGD'` as the optimizer. As in the previous lesson, include the accuracy as a metric."
      ]
    },
    {
      "cell_type": "code",
      "execution_count": null,
      "metadata": {
        "id": "lRxSqwJ628Cz"
      },
      "outputs": [],
      "source": [
        "# Compile the model\n"
      ]
    },
    {
      "cell_type": "markdown",
      "metadata": {
        "id": "ey7kqRXn28Cz"
      },
      "source": [
        "## Training the model\n",
        "\n",
        "In the compiler, you'll be passing the optimizer (SGD = stochastic gradient descent), loss function, and metrics. Train the model for 120 epochs in mini-batches of 256 samples.\n",
        "\n",
        "_Note:_ ⏰ _Your code may take about one to two minutes to run._"
      ]
    },
    {
      "cell_type": "code",
      "execution_count": null,
      "metadata": {
        "id": "H5YVUiR928Cz"
      },
      "outputs": [],
      "source": [
        "# Train the model\n",
        "history = None"
      ]
    },
    {
      "cell_type": "markdown",
      "metadata": {
        "id": "FTSBYCUa28C0"
      },
      "source": [
        "Recall that the dictionary `history` has two entries: the loss and the accuracy achieved using the training set."
      ]
    },
    {
      "cell_type": "code",
      "execution_count": null,
      "metadata": {
        "id": "jN7svtMF28C0"
      },
      "outputs": [],
      "source": [
        "history_dict = history.history\n",
        "history_dict.keys()"
      ]
    },
    {
      "cell_type": "markdown",
      "metadata": {
        "id": "GFrvyr5b28C0"
      },
      "source": [
        "## Plot the results\n",
        "\n",
        "As you might expect, we'll use our `matplotlib` for graphing. Use the data stored in the `history_dict` above to plot the loss vs epochs and the accuracy vs epochs."
      ]
    },
    {
      "cell_type": "code",
      "execution_count": null,
      "metadata": {
        "id": "BoMbDhcl28C0"
      },
      "outputs": [],
      "source": [
        "# Plot the loss vs the number of epoch"
      ]
    },
    {
      "cell_type": "code",
      "execution_count": null,
      "metadata": {
        "id": "lOho4wwU28C0"
      },
      "outputs": [],
      "source": [
        "# Plot the training accuracy vs the number of epochs\n"
      ]
    },
    {
      "cell_type": "markdown",
      "metadata": {
        "id": "rNYG2VJU28C0"
      },
      "source": [
        "It seems like we could just keep on going and accuracy would go up!"
      ]
    },
    {
      "cell_type": "markdown",
      "metadata": {
        "id": "ejFplwup28C0"
      },
      "source": [
        "## Make predictions\n",
        "\n",
        "Finally, it's time to make predictions. Use the relevant method discussed in the previous lesson to output (probability) predictions for the test set."
      ]
    },
    {
      "cell_type": "code",
      "execution_count": null,
      "metadata": {
        "id": "6Ebf0nWT28C0"
      },
      "outputs": [],
      "source": [
        "# Output (probability) predictions for the test set\n",
        "y_hat_test = None"
      ]
    },
    {
      "cell_type": "markdown",
      "metadata": {
        "id": "eFNy6nyN28C1"
      },
      "source": [
        "## Evaluate Performance\n",
        "\n",
        "Finally, print the loss and accuracy for both the train and test sets of the final trained model."
      ]
    },
    {
      "cell_type": "code",
      "execution_count": null,
      "metadata": {
        "id": "TfDCg71R28C1"
      },
      "outputs": [],
      "source": [
        "# Print the loss and accuracy for the training set\n",
        "results_train = None\n",
        "results_train"
      ]
    },
    {
      "cell_type": "code",
      "execution_count": null,
      "metadata": {
        "id": "_CwDXS1b28C2"
      },
      "outputs": [],
      "source": [
        "# Print the loss and accuracy for the test set\n",
        "results_test = None\n",
        "results_test"
      ]
    },
    {
      "cell_type": "markdown",
      "metadata": {
        "id": "Z0wUIHZ328C2"
      },
      "source": [
        "We can see that the training set results are really good, and the test set results seem to be even better. In general, this type of result will be rare, as train set results are usually at least a bit better than test set results.\n",
        "\n",
        "## Summary\n",
        "\n",
        "Congratulations! In this lab, you built a neural network thanks to the tools provided by Keras! In upcoming lessons and labs we'll continue to investigate further ideas regarding how to tune and refine these models for increased accuracy and performance."
      ]
    },
    {
      "cell_type": "code",
      "source": [
        "#Me trying some stuff out from a short video on building NN's\n",
        "import numpy as np\n",
        "from sklearn.datasets import make_regression\n",
        "from sklearn.linear_model import LinearRegression\n",
        "from sklearn.metrics import mean_squared_error as mse"
      ],
      "metadata": {
        "id": "1YMn-zxF2_yv"
      },
      "execution_count": 1,
      "outputs": []
    },
    {
      "cell_type": "code",
      "source": [
        "X, y = make_regression(n_features = 2,\n",
        "                       n_informative = 1,\n",
        "                       noise = 100,\n",
        "                       random_state = 42)"
      ],
      "metadata": {
        "id": "FokF3Ejj3Aop"
      },
      "execution_count": 2,
      "outputs": []
    },
    {
      "cell_type": "code",
      "source": [
        "linreg = LinearRegression()\n",
        "linreg.fit(X, y).score(X, y)"
      ],
      "metadata": {
        "id": "bKOS10Ue3mi4",
        "outputId": "8b93be8b-f9e6-4f15-ca86-5ac059726873",
        "colab": {
          "base_uri": "https://localhost:8080/"
        }
      },
      "execution_count": 3,
      "outputs": [
        {
          "output_type": "execute_result",
          "data": {
            "text/plain": [
              "0.4144461358278726"
            ]
          },
          "metadata": {},
          "execution_count": 3
        }
      ]
    },
    {
      "cell_type": "code",
      "source": [
        "X.shape"
      ],
      "metadata": {
        "id": "pwi2vwCS3vJE",
        "outputId": "6c1e108e-5e1b-4556-92a3-cb83e914948b",
        "colab": {
          "base_uri": "https://localhost:8080/"
        }
      },
      "execution_count": 5,
      "outputs": [
        {
          "output_type": "execute_result",
          "data": {
            "text/plain": [
              "(100, 2)"
            ]
          },
          "metadata": {},
          "execution_count": 5
        }
      ]
    },
    {
      "cell_type": "code",
      "source": [
        "y.shape"
      ],
      "metadata": {
        "id": "JmSrJOVg45Cg",
        "outputId": "2d6ce3f1-ee66-45d2-ef9a-1b859c591791",
        "colab": {
          "base_uri": "https://localhost:8080/"
        }
      },
      "execution_count": 7,
      "outputs": [
        {
          "output_type": "execute_result",
          "data": {
            "text/plain": [
              "(100,)"
            ]
          },
          "metadata": {},
          "execution_count": 7
        }
      ]
    },
    {
      "cell_type": "code",
      "source": [
        "y[0:10]"
      ],
      "metadata": {
        "id": "btNjf7pq40Rp",
        "outputId": "12cd6f52-7ea7-41cf-97e2-b6dc7f5fa744",
        "colab": {
          "base_uri": "https://localhost:8080/"
        }
      },
      "execution_count": 8,
      "outputs": [
        {
          "output_type": "execute_result",
          "data": {
            "text/plain": [
              "array([ -86.45119104,  110.51001716,  -57.28377464, -256.31443259,\n",
              "         60.82745498,  -58.76914197,    7.00903069,  114.58447502,\n",
              "        310.19242342,   16.59536815])"
            ]
          },
          "metadata": {},
          "execution_count": 8
        }
      ]
    },
    {
      "cell_type": "code",
      "source": [
        "X_2, y_2 = make_regression(n_features = 2,\n",
        "                       n_informative = 1,\n",
        "                       noise = 50,\n",
        "                       random_state = 42)\n",
        "linreg.fit(X_2, y_2).score(X_2, y_2)"
      ],
      "metadata": {
        "id": "a76cPXtz3xNd",
        "outputId": "66d267f0-7cd9-46a2-d785-2dd762660a35",
        "colab": {
          "base_uri": "https://localhost:8080/"
        }
      },
      "execution_count": 9,
      "outputs": [
        {
          "output_type": "execute_result",
          "data": {
            "text/plain": [
              "0.7131845881420126"
            ]
          },
          "metadata": {},
          "execution_count": 9
        }
      ]
    },
    {
      "cell_type": "code",
      "source": [],
      "metadata": {
        "id": "QHybgBY55IAV"
      },
      "execution_count": null,
      "outputs": []
    }
  ],
  "metadata": {
    "kernelspec": {
      "display_name": "Python 3",
      "language": "python",
      "name": "python3"
    },
    "language_info": {
      "codemirror_mode": {
        "name": "ipython",
        "version": 3
      },
      "file_extension": ".py",
      "mimetype": "text/x-python",
      "name": "python",
      "nbconvert_exporter": "python",
      "pygments_lexer": "ipython3",
      "version": "3.6.9"
    },
    "toc": {
      "base_numbering": 1,
      "nav_menu": {},
      "number_sections": true,
      "sideBar": true,
      "skip_h1_title": false,
      "title_cell": "Table of Contents",
      "title_sidebar": "Contents",
      "toc_cell": false,
      "toc_position": {},
      "toc_section_display": true,
      "toc_window_display": false
    },
    "colab": {
      "provenance": []
    }
  },
  "nbformat": 4,
  "nbformat_minor": 0
}